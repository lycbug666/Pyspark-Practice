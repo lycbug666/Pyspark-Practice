{
 "cells": [
  {
   "cell_type": "code",
   "execution_count": 1,
   "metadata": {
    "scrolled": false
   },
   "outputs": [
    {
     "data": {
      "text/html": [
       "\n",
       "        <div>\n",
       "            <p><b>SparkContext</b></p>\n",
       "\n",
       "            <p><a href=\"http://127.0.0.1:4040\">Spark UI</a></p>\n",
       "\n",
       "            <dl>\n",
       "              <dt>Version</dt>\n",
       "                <dd><code>v2.2.1</code></dd>\n",
       "              <dt>Master</dt>\n",
       "                <dd><code>local[*]</code></dd>\n",
       "              <dt>AppName</dt>\n",
       "                <dd><code>PySparkShell</code></dd>\n",
       "            </dl>\n",
       "        </div>\n",
       "        "
      ],
      "text/plain": [
       "<SparkContext master=local[*] appName=PySparkShell>"
      ]
     },
     "execution_count": 1,
     "metadata": {},
     "output_type": "execute_result"
    }
   ],
   "source": [
    "sc"
   ]
  },
  {
   "cell_type": "markdown",
   "metadata": {},
   "source": [
    "# MySQL read"
   ]
  },
  {
   "cell_type": "code",
   "execution_count": 18,
   "metadata": {},
   "outputs": [],
   "source": [
    "jdbcDF = spark.read.format(\"jdbc\").option(\"url\", \"jdbc:mysql://localhost:3306/spark\").option(\"driver\",\"com.mysql.jdbc.Driver\").option(\"dbtable\", \"student\").option(\"user\", \"root\").option(\"password\", \"123\").option(\"useSSL\",\"false\").load()"
   ]
  },
  {
   "cell_type": "code",
   "execution_count": 19,
   "metadata": {
    "scrolled": false
   },
   "outputs": [
    {
     "name": "stdout",
     "output_type": "stream",
     "text": [
      "+---+--------+------+---+\n",
      "| id|    name|gender|age|\n",
      "+---+--------+------+---+\n",
      "|  1| Xueqian|     F| 23|\n",
      "|  2|Weiliang|     M| 24|\n",
      "+---+--------+------+---+\n",
      "\n"
     ]
    }
   ],
   "source": [
    "jdbcDF.show()"
   ]
  },
  {
   "cell_type": "markdown",
   "metadata": {},
   "source": [
    "# MySQL append"
   ]
  },
  {
   "cell_type": "code",
   "execution_count": 23,
   "metadata": {},
   "outputs": [],
   "source": [
    "from pyspark.sql.types import Row\n",
    "from pyspark.sql.types import StructType\n",
    "from pyspark.sql.types import StructField\n",
    "from pyspark.sql.types import StringType\n",
    "from pyspark.sql.types import IntegerType"
   ]
  },
  {
   "cell_type": "code",
   "execution_count": 24,
   "metadata": {
    "collapsed": true
   },
   "outputs": [],
   "source": [
    "studentRDD = spark.sparkContext.parallelize([\"3 Rongcheng M 26\",\"4 Guanhua M 27\"]).map(lambda line : line.split(\" \"))"
   ]
  },
  {
   "cell_type": "code",
   "execution_count": 25,
   "metadata": {
    "collapsed": true
   },
   "outputs": [],
   "source": [
    "schema = StructType([StructField(\"name\", StringType(), True),\n",
    "                     StructField(\"gender\", StringType(), True),\n",
    "                     StructField(\"age\",IntegerType(), True)])"
   ]
  },
  {
   "cell_type": "code",
   "execution_count": 26,
   "metadata": {
    "collapsed": true
   },
   "outputs": [],
   "source": [
    "rowRDD = studentRDD.map(lambda p : Row(p[1].strip(), p[2].strip(),int(p[3])))"
   ]
  },
  {
   "cell_type": "code",
   "execution_count": 32,
   "metadata": {
    "collapsed": true
   },
   "outputs": [],
   "source": [
    "studentDF = spark.createDataFrame(rowRDD, schema)"
   ]
  },
  {
   "cell_type": "code",
   "execution_count": 33,
   "metadata": {
    "collapsed": true
   },
   "outputs": [],
   "source": [
    "prop = {}\n",
    "prop['user'] = 'root'\n",
    "prop['password'] = '123'\n",
    "prop['driver'] = \"com.mysql.jdbc.Driver\""
   ]
  },
  {
   "cell_type": "code",
   "execution_count": 34,
   "metadata": {},
   "outputs": [],
   "source": [
    "studentDF.write.jdbc(url=\"jdbc:mysql://localhost:3306/spark\"\n",
    "                  \"?user=root&password=123&useSSL=false\",\n",
    "              table=\"student\",\n",
    "              mode=\"append\",\n",
    "              properties={\"driver\": 'com.mysql.jdbc.Driver'})"
   ]
  },
  {
   "cell_type": "code",
   "execution_count": 36,
   "metadata": {},
   "outputs": [],
   "source": [
    "studentDF.write.jdbc(\"jdbc:mysql://localhost:3306/spark?useSSL=false\",'student','append', prop)"
   ]
  },
  {
   "cell_type": "code",
   "execution_count": 37,
   "metadata": {
    "collapsed": true
   },
   "outputs": [],
   "source": [
    "jdbcDF = spark.read.format(\"jdbc\").option(\"url\", \"jdbc:mysql://localhost:3306/spark\").option(\"driver\",\"com.mysql.jdbc.Driver\").option(\"dbtable\", \"student\").option(\"user\", \"root\").option(\"password\", \"123\").option(\"useSSL\",\"false\").load()"
   ]
  },
  {
   "cell_type": "code",
   "execution_count": 38,
   "metadata": {},
   "outputs": [
    {
     "name": "stdout",
     "output_type": "stream",
     "text": [
      "+---+---------+------+---+\n",
      "| id|     name|gender|age|\n",
      "+---+---------+------+---+\n",
      "|  1|  Xueqian|     F| 23|\n",
      "|  2| Weiliang|     M| 24|\n",
      "|  3|Rongcheng|     M| 26|\n",
      "|  4|  Guanhua|     M| 27|\n",
      "|  5|  Guanhua|     M| 27|\n",
      "|  6|Rongcheng|     M| 26|\n",
      "|  7|Rongcheng|     M| 26|\n",
      "|  8|  Guanhua|     M| 27|\n",
      "|  9|Rongcheng|     M| 26|\n",
      "| 10|  Guanhua|     M| 27|\n",
      "| 11|Rongcheng|     M| 26|\n",
      "| 12|  Guanhua|     M| 27|\n",
      "+---+---------+------+---+\n",
      "\n"
     ]
    }
   ],
   "source": [
    "jdbcDF.show()"
   ]
  },
  {
   "cell_type": "code",
   "execution_count": null,
   "metadata": {
    "collapsed": true
   },
   "outputs": [],
   "source": []
  }
 ],
 "metadata": {
  "kernelspec": {
   "display_name": "Python 3",
   "language": "python",
   "name": "python3"
  },
  "language_info": {
   "codemirror_mode": {
    "name": "ipython",
    "version": 3
   },
   "file_extension": ".py",
   "mimetype": "text/x-python",
   "name": "python",
   "nbconvert_exporter": "python",
   "pygments_lexer": "ipython3",
   "version": "3.6.3"
  }
 },
 "nbformat": 4,
 "nbformat_minor": 2
}
