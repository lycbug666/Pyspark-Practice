{
 "cells": [
  {
   "cell_type": "markdown",
   "metadata": {},
   "source": [
    "# Getting the data and creating the RDD\n"
   ]
  },
  {
   "cell_type": "code",
   "execution_count": 1,
   "metadata": {
    "collapsed": true
   },
   "outputs": [],
   "source": [
    "data_file = \"file:///home/lygbug666/workdir/spark-py-notebooks/kddcup.data_10_percent.gz\""
   ]
  },
  {
   "cell_type": "code",
   "execution_count": 2,
   "metadata": {
    "collapsed": true
   },
   "outputs": [],
   "source": [
    "raw_data = sc.textFile(data_file)"
   ]
  },
  {
   "cell_type": "markdown",
   "metadata": {},
   "source": [
    "# Getting attack interactions using subtract"
   ]
  },
  {
   "cell_type": "code",
   "execution_count": 3,
   "metadata": {
    "collapsed": true
   },
   "outputs": [],
   "source": [
    "normal_raw_data = raw_data.filter(lambda x: \"normal.\" in x)"
   ]
  },
  {
   "cell_type": "code",
   "execution_count": 5,
   "metadata": {},
   "outputs": [],
   "source": [
    "attack_raw_data = raw_data.subtract(normal_raw_data)"
   ]
  },
  {
   "cell_type": "code",
   "execution_count": 7,
   "metadata": {},
   "outputs": [
    {
     "name": "stdout",
     "output_type": "stream",
     "text": [
      "All count in 2.565 secs\n"
     ]
    }
   ],
   "source": [
    "from time import time\n",
    "\n",
    "# count all\n",
    "t0 = time()\n",
    "raw_data_count = raw_data.count()\n",
    "tt = time() - t0\n",
    "print (\"All count in {} secs\".format(round(tt,3)))"
   ]
  },
  {
   "cell_type": "code",
   "execution_count": 8,
   "metadata": {},
   "outputs": [
    {
     "name": "stdout",
     "output_type": "stream",
     "text": [
      "Normal count in 1.464 secs\n"
     ]
    }
   ],
   "source": [
    "# count normal\n",
    "t0 = time()\n",
    "normal_raw_data_count = normal_raw_data.count()\n",
    "tt = time() - t0\n",
    "print (\"Normal count in {} secs\".format(round(tt,3)))"
   ]
  },
  {
   "cell_type": "code",
   "execution_count": 9,
   "metadata": {},
   "outputs": [
    {
     "name": "stdout",
     "output_type": "stream",
     "text": [
      "Attack count in 7.219 secs\n"
     ]
    }
   ],
   "source": [
    "# count attacks\n",
    "t0 = time()\n",
    "attack_raw_data_count = attack_raw_data.count()\n",
    "tt = time() - t0\n",
    "print (\"Attack count in {} secs\".format(round(tt,3)))"
   ]
  },
  {
   "cell_type": "code",
   "execution_count": 11,
   "metadata": {},
   "outputs": [
    {
     "name": "stdout",
     "output_type": "stream",
     "text": [
      "There are 97278 normal interactions and 396743 attacks, from a total of 494021 interactions\n"
     ]
    }
   ],
   "source": [
    "print (\"There are {} normal interactions and {} attacks, \\\n",
    "from a total of {} interactions\".format(normal_raw_data_count,attack_raw_data_count,raw_data_count))"
   ]
  },
  {
   "cell_type": "markdown",
   "metadata": {},
   "source": [
    "So now we have two RDDs, one with normal interactions and another one with attacks."
   ]
  },
  {
   "cell_type": "markdown",
   "metadata": {},
   "source": [
    "# Protocol and service combinations using cartesian"
   ]
  },
  {
   "cell_type": "markdown",
   "metadata": {},
   "source": [
    "计算笛卡尔积"
   ]
  },
  {
   "cell_type": "code",
   "execution_count": 13,
   "metadata": {
    "collapsed": true
   },
   "outputs": [],
   "source": [
    "csv_data = raw_data.map(lambda x: x.split(\",\"))"
   ]
  },
  {
   "cell_type": "code",
   "execution_count": 15,
   "metadata": {},
   "outputs": [
    {
     "data": {
      "text/plain": [
       "['tcp', 'udp', 'icmp']"
      ]
     },
     "execution_count": 15,
     "metadata": {},
     "output_type": "execute_result"
    }
   ],
   "source": [
    "protocol = csv_data.map(lambda x: x[1]).distinct()\n",
    "protocol.collect()"
   ]
  },
  {
   "cell_type": "code",
   "execution_count": 27,
   "metadata": {},
   "outputs": [
    {
     "data": {
      "text/plain": [
       "66"
      ]
     },
     "execution_count": 27,
     "metadata": {},
     "output_type": "execute_result"
    }
   ],
   "source": [
    "service = csv_data.map(lambda x: x[2]).distinct()\n",
    "service.collect()\n",
    "service.count()"
   ]
  },
  {
   "cell_type": "code",
   "execution_count": 26,
   "metadata": {
    "scrolled": true
   },
   "outputs": [
    {
     "name": "stdout",
     "output_type": "stream",
     "text": [
      "There are 198 combinations of protocol X service\n",
      "[('tcp', 'http'), ('tcp', 'smtp'), ('tcp', 'finger'), ('tcp', 'domain_u'), ('tcp', 'auth'), ('tcp', 'telnet'), ('tcp', 'ftp'), ('tcp', 'eco_i'), ('tcp', 'ntp_u'), ('tcp', 'ecr_i'), ('tcp', 'other'), ('tcp', 'private'), ('tcp', 'pop_3'), ('tcp', 'ftp_data'), ('tcp', 'rje'), ('tcp', 'time'), ('tcp', 'mtp'), ('tcp', 'link'), ('tcp', 'remote_job'), ('tcp', 'gopher'), ('tcp', 'ssh'), ('tcp', 'name'), ('tcp', 'whois'), ('tcp', 'domain'), ('tcp', 'login'), ('tcp', 'imap4'), ('tcp', 'daytime'), ('tcp', 'ctf'), ('tcp', 'nntp'), ('tcp', 'shell'), ('tcp', 'IRC'), ('tcp', 'nnsp'), ('tcp', 'http_443'), ('tcp', 'exec'), ('tcp', 'printer'), ('tcp', 'efs'), ('tcp', 'courier'), ('tcp', 'uucp'), ('tcp', 'klogin'), ('tcp', 'kshell'), ('tcp', 'echo'), ('tcp', 'discard'), ('tcp', 'systat'), ('tcp', 'supdup'), ('tcp', 'iso_tsap'), ('tcp', 'hostnames'), ('tcp', 'csnet_ns'), ('tcp', 'pop_2'), ('tcp', 'sunrpc'), ('tcp', 'uucp_path'), ('tcp', 'netbios_ns'), ('tcp', 'netbios_ssn'), ('tcp', 'netbios_dgm'), ('tcp', 'sql_net'), ('tcp', 'vmnet'), ('tcp', 'bgp'), ('tcp', 'Z39_50'), ('tcp', 'ldap'), ('tcp', 'netstat'), ('tcp', 'urh_i'), ('tcp', 'X11'), ('tcp', 'urp_i'), ('tcp', 'pm_dump'), ('tcp', 'tftp_u'), ('tcp', 'tim_i'), ('tcp', 'red_i'), ('udp', 'http'), ('icmp', 'http'), ('udp', 'smtp'), ('udp', 'finger'), ('icmp', 'smtp'), ('icmp', 'finger'), ('udp', 'domain_u'), ('udp', 'auth'), ('udp', 'telnet'), ('udp', 'ftp'), ('icmp', 'domain_u'), ('icmp', 'auth'), ('icmp', 'telnet'), ('icmp', 'ftp'), ('udp', 'eco_i'), ('udp', 'ntp_u'), ('udp', 'ecr_i'), ('udp', 'other'), ('udp', 'private'), ('udp', 'pop_3'), ('udp', 'ftp_data'), ('udp', 'rje'), ('icmp', 'eco_i'), ('icmp', 'ntp_u'), ('icmp', 'ecr_i'), ('icmp', 'other'), ('icmp', 'private'), ('icmp', 'pop_3'), ('icmp', 'ftp_data'), ('icmp', 'rje'), ('udp', 'time'), ('udp', 'mtp'), ('udp', 'link'), ('udp', 'remote_job'), ('udp', 'gopher'), ('udp', 'ssh'), ('udp', 'name'), ('udp', 'whois'), ('udp', 'domain'), ('udp', 'login'), ('udp', 'imap4'), ('udp', 'daytime'), ('udp', 'ctf'), ('udp', 'nntp'), ('udp', 'shell'), ('udp', 'IRC'), ('icmp', 'time'), ('icmp', 'mtp'), ('icmp', 'link'), ('icmp', 'remote_job'), ('icmp', 'gopher'), ('icmp', 'ssh'), ('icmp', 'name'), ('icmp', 'whois'), ('icmp', 'domain'), ('icmp', 'login'), ('icmp', 'imap4'), ('icmp', 'daytime'), ('icmp', 'ctf'), ('icmp', 'nntp'), ('icmp', 'shell'), ('icmp', 'IRC'), ('udp', 'nnsp'), ('udp', 'http_443'), ('udp', 'exec'), ('udp', 'printer'), ('udp', 'efs'), ('udp', 'courier'), ('udp', 'uucp'), ('udp', 'klogin'), ('udp', 'kshell'), ('udp', 'echo'), ('udp', 'discard'), ('udp', 'systat'), ('udp', 'supdup'), ('udp', 'iso_tsap'), ('udp', 'hostnames'), ('udp', 'csnet_ns'), ('udp', 'pop_2'), ('udp', 'sunrpc'), ('udp', 'uucp_path'), ('udp', 'netbios_ns'), ('udp', 'netbios_ssn'), ('udp', 'netbios_dgm'), ('udp', 'sql_net'), ('udp', 'vmnet'), ('udp', 'bgp'), ('udp', 'Z39_50'), ('udp', 'ldap'), ('udp', 'netstat'), ('udp', 'urh_i'), ('udp', 'X11'), ('udp', 'urp_i'), ('udp', 'pm_dump'), ('icmp', 'nnsp'), ('icmp', 'http_443'), ('icmp', 'exec'), ('icmp', 'printer'), ('icmp', 'efs'), ('icmp', 'courier'), ('icmp', 'uucp'), ('icmp', 'klogin'), ('icmp', 'kshell'), ('icmp', 'echo'), ('icmp', 'discard'), ('icmp', 'systat'), ('icmp', 'supdup'), ('icmp', 'iso_tsap'), ('icmp', 'hostnames'), ('icmp', 'csnet_ns'), ('icmp', 'pop_2'), ('icmp', 'sunrpc'), ('icmp', 'uucp_path'), ('icmp', 'netbios_ns'), ('icmp', 'netbios_ssn'), ('icmp', 'netbios_dgm'), ('icmp', 'sql_net'), ('icmp', 'vmnet'), ('icmp', 'bgp'), ('icmp', 'Z39_50'), ('icmp', 'ldap'), ('icmp', 'netstat'), ('icmp', 'urh_i'), ('icmp', 'X11'), ('icmp', 'urp_i'), ('icmp', 'pm_dump'), ('udp', 'tftp_u'), ('udp', 'tim_i'), ('udp', 'red_i'), ('icmp', 'tftp_u'), ('icmp', 'tim_i'), ('icmp', 'red_i')]\n"
     ]
    }
   ],
   "source": [
    "product = protocol.cartesian(service).collect()\n",
    "print (\"There are {} combinations of protocol X service\".format(len(product)))\n",
    "print (product)"
   ]
  },
  {
   "cell_type": "code",
   "execution_count": null,
   "metadata": {
    "collapsed": true
   },
   "outputs": [],
   "source": []
  }
 ],
 "metadata": {
  "kernelspec": {
   "display_name": "Python 3",
   "language": "python",
   "name": "python3"
  },
  "language_info": {
   "codemirror_mode": {
    "name": "ipython",
    "version": 3
   },
   "file_extension": ".py",
   "mimetype": "text/x-python",
   "name": "python",
   "nbconvert_exporter": "python",
   "pygments_lexer": "ipython3",
   "version": "3.6.3"
  }
 },
 "nbformat": 4,
 "nbformat_minor": 2
}
